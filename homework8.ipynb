{
  "nbformat": 4,
  "nbformat_minor": 0,
  "metadata": {
    "colab": {
      "provenance": [],
      "authorship_tag": "ABX9TyOxmo+ZsnRqOvHbG44Kay1x"
    },
    "kernelspec": {
      "name": "python3",
      "display_name": "Python 3"
    },
    "language_info": {
      "name": "python"
    }
  },
  "cells": [
    {
      "cell_type": "code",
      "execution_count": null,
      "metadata": {
        "id": "lRAyfyKlOPl9"
      },
      "outputs": [],
      "source": []
    },
    {
      "cell_type": "markdown",
      "source": [
        "I'm especially interested in using a large language model to create better gene set enrichment analysis, a procedure by which a set of genes found to be relevant in an 'omics experiment, are tested for enrichment in a set of biological pathways. Currently, the number of pathways are limited to a few hundred well documented ones, but extraction of a much larger list of pathways from all published literature (or a subset of relevant journals or textbooks) could enable a more thorough search as well as reveal pathways which may be more relevant to a particular topic within biology."
      ],
      "metadata": {
        "id": "2qAcVVGxOQs0"
      }
    }
  ]
}
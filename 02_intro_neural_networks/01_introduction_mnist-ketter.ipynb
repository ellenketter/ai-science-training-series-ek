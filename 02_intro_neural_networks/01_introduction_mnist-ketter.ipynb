{
  "cells": [
    {
      "cell_type": "markdown",
      "metadata": {
        "id": "XIUhxyvgZllj"
      },
      "source": [
        "# Introduction to Neural Networks\n",
        "Author: Bethany Lusch, adapting materials from Marieme Ngom, Asad Khan, Prasanna Balaprakash, Taylor Childers, Corey Adams, Kyle Felker, and Tanwi Mallick.\n",
        "\n",
        "This tutorial will serve as a gentle introduction to neural networks and deep learning through a hands-on classification problem using the MNIST dataset.\n",
        "\n",
        "In particular, we will introduce neural networks and how to train and improve their learning capabilities.  We will use the PyTorch Python library.\n",
        "\n",
        "The [MNIST dataset](http://yann.lecun.com/exdb/mnist/) contains thousands of examples of handwritten numbers, with each digit labeled 0-9.\n",
        "<img src=\"https://github.com/ellenketter/ai-science-training-series-ek/blob/main/02_intro_neural_networks/images/mnist_task.png?raw=1\"  align=\"left\"/>\n",
        "\n"
      ]
    },
    {
      "cell_type": "code",
      "execution_count": 1,
      "metadata": {
        "id": "-akIBmuTZlll"
      },
      "outputs": [],
      "source": [
        "%matplotlib inline\n",
        "\n",
        "import torch\n",
        "import torchvision\n",
        "from torch import nn\n",
        "\n",
        "import numpy\n",
        "import matplotlib.pyplot as plt\n",
        "import time"
      ]
    },
    {
      "cell_type": "markdown",
      "metadata": {
        "id": "_6BS3a-OZllm"
      },
      "source": [
        "## The MNIST dataset\n",
        "\n",
        "We will now download the dataset that contains handwritten digits. MNIST is a popular dataset, so we can download it via the PyTorch library. Note:\n",
        "- x is for the inputs (images of handwritten digits) and y is for the labels or outputs (digits 0-9)\n",
        "- We are given \"training\" and \"test\" datasets. Training datasets are used to fit the model. Test datasets are saved until the end, when we are satisfied with our model, to estimate how well our model generalizes to new data.\n",
        "\n",
        "Note that downloading it the first time might take some time.\n",
        "The data is split as follows:\n",
        "- 60,000 training examples, 10,000 test examples\n",
        "- inputs: 1 x 28 x 28 pixels\n",
        "- outputs (labels): one integer per example"
      ]
    },
    {
      "cell_type": "code",
      "execution_count": 2,
      "metadata": {
        "colab": {
          "base_uri": "https://localhost:8080/"
        },
        "id": "Kd2MPslOZlln",
        "outputId": "b6771f57-e04f-4e7e-b2d7-ceda86609e44"
      },
      "outputs": [
        {
          "output_type": "stream",
          "name": "stdout",
          "text": [
            "Downloading http://yann.lecun.com/exdb/mnist/train-images-idx3-ubyte.gz\n",
            "Downloading http://yann.lecun.com/exdb/mnist/train-images-idx3-ubyte.gz to data/MNIST/raw/train-images-idx3-ubyte.gz\n"
          ]
        },
        {
          "output_type": "stream",
          "name": "stderr",
          "text": [
            "100%|██████████| 9912422/9912422 [00:00<00:00, 104639315.13it/s]\n"
          ]
        },
        {
          "output_type": "stream",
          "name": "stdout",
          "text": [
            "Extracting data/MNIST/raw/train-images-idx3-ubyte.gz to data/MNIST/raw\n",
            "\n",
            "Downloading http://yann.lecun.com/exdb/mnist/train-labels-idx1-ubyte.gz\n",
            "Downloading http://yann.lecun.com/exdb/mnist/train-labels-idx1-ubyte.gz to data/MNIST/raw/train-labels-idx1-ubyte.gz\n"
          ]
        },
        {
          "output_type": "stream",
          "name": "stderr",
          "text": [
            "100%|██████████| 28881/28881 [00:00<00:00, 55363662.63it/s]"
          ]
        },
        {
          "output_type": "stream",
          "name": "stdout",
          "text": [
            "Extracting data/MNIST/raw/train-labels-idx1-ubyte.gz to data/MNIST/raw\n",
            "\n",
            "Downloading http://yann.lecun.com/exdb/mnist/t10k-images-idx3-ubyte.gz\n",
            "Downloading http://yann.lecun.com/exdb/mnist/t10k-images-idx3-ubyte.gz to data/MNIST/raw/t10k-images-idx3-ubyte.gz\n"
          ]
        },
        {
          "output_type": "stream",
          "name": "stderr",
          "text": [
            "\n",
            "100%|██████████| 1648877/1648877 [00:00<00:00, 31112302.04it/s]\n"
          ]
        },
        {
          "output_type": "stream",
          "name": "stdout",
          "text": [
            "Extracting data/MNIST/raw/t10k-images-idx3-ubyte.gz to data/MNIST/raw\n",
            "\n",
            "Downloading http://yann.lecun.com/exdb/mnist/t10k-labels-idx1-ubyte.gz\n",
            "Downloading http://yann.lecun.com/exdb/mnist/t10k-labels-idx1-ubyte.gz to data/MNIST/raw/t10k-labels-idx1-ubyte.gz\n"
          ]
        },
        {
          "output_type": "stream",
          "name": "stderr",
          "text": [
            "100%|██████████| 4542/4542 [00:00<00:00, 10824164.07it/s]"
          ]
        },
        {
          "output_type": "stream",
          "name": "stdout",
          "text": [
            "Extracting data/MNIST/raw/t10k-labels-idx1-ubyte.gz to data/MNIST/raw\n",
            "\n"
          ]
        },
        {
          "output_type": "stream",
          "name": "stderr",
          "text": [
            "\n"
          ]
        }
      ],
      "source": [
        "training_data = torchvision.datasets.MNIST(\n",
        "    root=\"data\",\n",
        "    train=True,\n",
        "    download=True,\n",
        "    transform=torchvision.transforms.ToTensor()\n",
        ")\n",
        "\n",
        "test_data = torchvision.datasets.MNIST(\n",
        "    root=\"data\",\n",
        "    train=False,\n",
        "    download=True,\n",
        "    transform=torchvision.transforms.ToTensor()\n",
        ")"
      ]
    },
    {
      "cell_type": "code",
      "execution_count": 3,
      "metadata": {
        "id": "t9ou6wHcZlln"
      },
      "outputs": [],
      "source": [
        "training_data, validation_data = torch.utils.data.random_split(training_data, [0.8, 0.2], generator=torch.Generator().manual_seed(55))"
      ]
    },
    {
      "cell_type": "code",
      "execution_count": 4,
      "metadata": {
        "colab": {
          "base_uri": "https://localhost:8080/"
        },
        "id": "KOy490NuZlln",
        "outputId": "8f0201bc-5520-4b94-bde0-b0c7545421a0"
      },
      "outputs": [
        {
          "output_type": "stream",
          "name": "stdout",
          "text": [
            "MNIST data loaded: train: 48000  examples, validation:  12000 examples, test: 10000 examples\n",
            "Input shape torch.Size([1, 28, 28])\n"
          ]
        }
      ],
      "source": [
        "print('MNIST data loaded: train:',len(training_data),' examples, validation: ', len(validation_data), 'examples, test:',len(test_data), 'examples')\n",
        "print('Input shape', training_data[0][0].shape)"
      ]
    },
    {
      "cell_type": "markdown",
      "metadata": {
        "id": "Ll4-C1gzZlln"
      },
      "source": [
        "Let's take a closer look. Here are the first 10 training digits:"
      ]
    },
    {
      "cell_type": "code",
      "execution_count": 5,
      "metadata": {
        "colab": {
          "base_uri": "https://localhost:8080/",
          "height": 115
        },
        "id": "cIHsAGtaZlln",
        "outputId": "aa3f3a3d-0680-4873-976b-5152a0fe34e8"
      },
      "outputs": [
        {
          "output_type": "display_data",
          "data": {
            "text/plain": [
              "<Figure size 1000x100 with 10 Axes>"
            ],
            "image/png": "[encoded data removed]"
          },
          "metadata": {}
        }
      ],
      "source": [
        "pltsize=1\n",
        "plt.figure(figsize=(10*pltsize, pltsize))\n",
        "\n",
        "for i in range(10):\n",
        "    plt.subplot(1,10,i+1)\n",
        "    plt.axis('off')\n",
        "    plt.imshow(numpy.reshape(training_data[i][0], (28, 28)), cmap=\"gray\")\n",
        "    plt.title('Class: '+str(training_data[i][1]))"
      ]
    },
    {
      "cell_type": "code",
      "execution_count": 6,
      "metadata": {
        "id": "Fjb0D53KZllo"
      },
      "outputs": [],
      "source": [
        "batch_size = 128\n",
        "\n",
        "# The dataloader makes our dataset iterable\n",
        "train_dataloader = torch.utils.data.DataLoader(training_data, batch_size=batch_size)\n",
        "val_dataloader = torch.utils.data.DataLoader(validation_data, batch_size=batch_size)"
      ]
    },
    {
      "cell_type": "markdown",
      "metadata": {
        "id": "MRa-jxo-Zllo"
      },
      "source": [
        "# Generalities:\n",
        "To train our classifier, we need (besides the data):\n",
        "- A model that depend on parameters $\\mathbf{\\theta}$. Here we are going to use neural networks.\n",
        "- A loss function $J(\\mathbf{\\theta})$ to measure the capabilities of the model.\n",
        "- An optimization method."
      ]
    },
    {
      "cell_type": "markdown",
      "metadata": {
        "id": "-2-lD6cyZllo"
      },
      "source": [
        "# Linear Model\n",
        "Let's begin with a simple linear model: linear regression, like last week.\n",
        "We add one complication: each example is a vector (flattened image), so the \"slope\" multiplication becomes a dot product. If the target output is a vector as well, then the multiplication becomes matrix multiplication.\n",
        "\n",
        "Note, like before, we consider multiple examples at once, adding another dimension to the input.\n",
        "\n",
        "\n",
        " <img src=\"https://github.com/ellenketter/ai-science-training-series-ek/blob/main/02_intro_neural_networks/images/LinearModel_1.png?raw=1\"  align=\"center\"/>\n",
        "\n",
        "\n",
        "\n",
        "The linear layers in PyTorch perform a basic $xW + b$. These \"fully connected\" layers connect each input to each output with some weight parameter."
      ]
    },
    {
      "cell_type": "markdown",
      "metadata": {
        "id": "smqWQ1tmZllo"
      },
      "source": [
        "We wouldn't expect a simple linear model $f(x) = xW+b$ directly outputting the class label and minimizing mean squared error to work well - the model would output labels like 3.55 and 2.11 instead of skipping to integers.\n",
        "\n",
        "Let's make two changes that make more sense for classification:\n",
        "- Change the output to be a length-10 vector of class probabilities (0 to 1, adding to 1).\n",
        "- Cross entropy as the loss function, which is typical for classification. You can read more [here](https://gombru.github.io/2018/05/23/cross_entropy_loss/)."
      ]
    },
    {
      "cell_type": "code",
      "execution_count": 20,
      "metadata": {
        "id": "UbNh1fKjZllp"
      },
      "outputs": [],
      "source": [
        "class NonlinearClassifier(nn.Module):\n",
        "\n",
        "    def __init__(self):\n",
        "        super().__init__()\n",
        "        self.flatten = nn.Flatten()\n",
        "        self.layers_stack = nn.Sequential(\n",
        "            nn.Linear(28*28, 50),\n",
        "            nn.ReLU(),\n",
        "            #nn.Dropout(0.2),\n",
        "            nn.Linear(50, 50),\n",
        "            nn.ReLU(),\n",
        "            #nn.Dropout(0.2),\n",
        "            nn.Linear(50, 10)\n",
        "        )\n",
        "\n",
        "    def forward(self, x):\n",
        "        x = self.flatten(x)\n",
        "        x = self.layers_stack(x)\n",
        "\n",
        "        return x"
      ]
    },
    {
      "cell_type": "markdown",
      "metadata": {
        "id": "be_uYTjxZllp"
      },
      "source": [
        "We now need:\n",
        "- A loss function $J(\\theta)$ where $\\theta$ is the list of parameters (here W and b). Last week, we used mean squared error (MSE), but this time we're switching to cross entropy since it's classification.  \n",
        "\n",
        "- An optimization method or optimizer such as the stochastic gradient descent (sgd) method, the Adam optimizer, RMSprop, Adagrad etc. Let's start with stochastic gradient descent (sgd), like last week. For far more information about more advanced optimizers than basic SGD, with some cool animations, see https://ruder.io/optimizing-gradient-descent/ or https://distill.pub/2017/momentum/.\n",
        "\n",
        "- A learning rate. As we learned last week, the learning rate controls how far we move during each step."
      ]
    },
    {
      "cell_type": "code",
      "execution_count": 24,
      "metadata": {
        "colab": {
          "base_uri": "https://localhost:8080/"
        },
        "id": "BIQVGQzEZllp",
        "outputId": "b1edc100-27c6-4662-96f3-b05108ddd357"
      },
      "outputs": [
        {
          "output_type": "stream",
          "name": "stdout",
          "text": [
            "NonlinearClassifier(\n",
            "  (flatten): Flatten(start_dim=1, end_dim=-1)\n",
            "  (layers_stack): Sequential(\n",
            "    (0): Linear(in_features=784, out_features=50, bias=True)\n",
            "    (1): ReLU()\n",
            "    (2): Linear(in_features=50, out_features=50, bias=True)\n",
            "    (3): ReLU()\n",
            "    (4): Linear(in_features=50, out_features=10, bias=True)\n",
            "  )\n",
            ")\n"
          ]
        }
      ],
      "source": [
        "nonlinear_model = NonlinearClassifier()\n",
        "print(nonlinear_model)\n",
        "\n",
        "loss_fn = nn.CrossEntropyLoss()\n",
        "optimizer = torch.optim.SGD(nonlinear_model.parameters(), lr=0.01)"
      ]
    },
    {
      "cell_type": "markdown",
      "metadata": {
        "id": "JhpfvYOoZllp"
      },
      "source": [
        "# Learning\n",
        "Now we are ready to train our first model. A training step is comprised of:\n",
        "- A forward pass: the input is passed through the network\n",
        "- Backpropagation: A backward pass to compute the gradient $\\frac{\\partial J}{\\partial \\mathbf{W}}$ of the loss function with respect to the parameters of the network.\n",
        "- Weight updates $\\mathbf{W} = \\mathbf{W} - \\alpha \\frac{\\partial J}{\\partial \\mathbf{W}} $ where $\\alpha$ is the learning rate.\n",
        "\n",
        "How many steps do we take?\n",
        "- The batch size corresponds to the number of training examples in one pass (forward + backward). A smaller batch size allows the model to learn from individual examples but takes longer to train. A larger batch size requires fewer steps but may result in the model not capturing the nuances in the data. The higher the batch size, the more memory you will require.  \n",
        "- An epoch means one pass through the whole training data (looping over the batches). Using few epochs can lead to underfitting and using too many can lead to overfitting.\n",
        "- The choice of batch size and learning rate are important for performance, generalization and accuracy in deep learning.\n",
        "\n",
        "\n",
        "\n",
        "\n"
      ]
    },
    {
      "cell_type": "code",
      "execution_count": 26,
      "metadata": {
        "id": "o-kjXz5DZllp"
      },
      "outputs": [],
      "source": [
        "def train_one_epoch(dataloader, model, loss_fn, optimizer):\n",
        "    model.train()\n",
        "    for batch, (X, y) in enumerate(dataloader):\n",
        "        # forward pass\n",
        "        pred = model(X)\n",
        "        loss = loss_fn(pred, y)\n",
        "\n",
        "        # backward pass calculates gradients\n",
        "        loss.backward()\n",
        "\n",
        "        # take one step with these gradients\n",
        "        optimizer.step()\n",
        "\n",
        "        # resets the gradients\n",
        "        optimizer.zero_grad()"
      ]
    },
    {
      "cell_type": "code",
      "execution_count": 27,
      "metadata": {
        "id": "DEqn3v-7Zllq"
      },
      "outputs": [],
      "source": [
        "def evaluate(dataloader, model, loss_fn):\n",
        "    # Set the model to evaluation mode - some NN pieces behave differently during training\n",
        "    # Unnecessary in this situation but added for best practices\n",
        "    model.eval()\n",
        "    size = len(dataloader.dataset)\n",
        "    num_batches = len(dataloader)\n",
        "    loss, correct = 0, 0\n",
        "\n",
        "    # We can save computation and memory by not calculating gradients here - we aren't optimizing\n",
        "    with torch.no_grad():\n",
        "        # loop over all of the batches\n",
        "        for X, y in dataloader:\n",
        "            pred = model(X)\n",
        "            loss += loss_fn(pred, y).item()\n",
        "            # how many are correct in this batch? Tracking for accuracy\n",
        "            correct += (pred.argmax(1) == y).type(torch.float).sum().item()\n",
        "\n",
        "    loss /= num_batches\n",
        "    correct /= size\n",
        "\n",
        "    accuracy = 100*correct\n",
        "    return accuracy, loss"
      ]
    },
    {
      "cell_type": "code",
      "execution_count": 28,
      "metadata": {
        "colab": {
          "base_uri": "https://localhost:8080/"
        },
        "id": "HnrqlOmvZllq",
        "outputId": "e9fa9ce2-16f3-4080-e8b2-23cb3f40305a"
      },
      "outputs": [
        {
          "output_type": "stream",
          "name": "stdout",
          "text": [
            "Epoch 0: training loss: 2.1206034673055014, accuracy: 38.24791666666666\n",
            "Epoch 1: training loss: 1.2742184422810872, accuracy: 70.8\n",
            "Epoch 2: training loss: 0.7183578495979309, accuracy: 81.31666666666668\n",
            "Epoch 3: training loss: 0.55599840203921, accuracy: 84.87708333333333\n",
            "Epoch 4: training loss: 0.4801067504088084, accuracy: 86.78958333333333\n",
            "CPU times: user 1min 4s, sys: 225 ms, total: 1min 4s\n",
            "Wall time: 1min 4s\n"
          ]
        }
      ],
      "source": [
        "%%time\n",
        "\n",
        "epochs = 5\n",
        "for j in range(epochs):\n",
        "    train_one_epoch(train_dataloader, nonlinear_model, loss_fn, optimizer)\n",
        "\n",
        "    # checking on the training loss and accuracy once per epoch\n",
        "    acc, loss = evaluate(train_dataloader, nonlinear_model, loss_fn)\n",
        "    print(f\"Epoch {j}: training loss: {loss}, accuracy: {acc}\")"
      ]
    },
    {
      "cell_type": "code",
      "execution_count": 29,
      "metadata": {
        "colab": {
          "base_uri": "https://localhost:8080/",
          "height": 115
        },
        "id": "tF4zDUU7Zllq",
        "outputId": "c43b61c9-d653-44de-e64f-a8d5fea33f89"
      },
      "outputs": [
        {
          "output_type": "display_data",
          "data": {
            "text/plain": [
              "<Figure size 1000x100 with 10 Axes>"
            ],
            "image/png": "[encoded data removed]"
          },
          "metadata": {}
        }
      ],
      "source": [
        "# Visualize how the model is doing on the first 10 examples\n",
        "pltsize=1\n",
        "plt.figure(figsize=(10*pltsize, pltsize))\n",
        "nonlinear_model.eval()\n",
        "batch = next(iter(train_dataloader))\n",
        "predictions = nonlinear_model(batch[0])\n",
        "\n",
        "for i in range(10):\n",
        "    plt.subplot(1,10,i+1)\n",
        "    plt.axis('off')\n",
        "    plt.imshow(batch[0][i,0,:,:], cmap=\"gray\")\n",
        "    plt.title('%d' % predictions[i,:].argmax())"
      ]
    },
    {
      "cell_type": "markdown",
      "metadata": {
        "id": "NaguJ43QZllq"
      },
      "source": [
        "Exercise: How can you improve the accuracy? Some things you might consider: increasing the number of epochs, changing the learning rate, etc."
      ]
    },
    {
      "cell_type": "markdown",
      "metadata": {
        "id": "1lHzfxB-Zllr"
      },
      "source": [
        "# Inference\n",
        "\n",
        "For a better measure of the quality of the model, let's see the model accuracy for the validation data.\n",
        "\n"
      ]
    },
    {
      "cell_type": "code",
      "execution_count": 30,
      "metadata": {
        "colab": {
          "base_uri": "https://localhost:8080/"
        },
        "id": "NxCGlLHeZllr",
        "outputId": "7cc097e9-05ab-4b4b-c747-c7d7c69bbb50"
      },
      "outputs": [
        {
          "output_type": "stream",
          "name": "stdout",
          "text": [
            "Validation loss: 0.4681, validation accuracy: 86.97%\n"
          ]
        }
      ],
      "source": [
        "acc_val, loss_val = evaluate(val_dataloader, nonlinear_model, loss_fn)\n",
        "print(\"Validation loss: %.4f, validation accuracy: %.2f%%\" % (loss_val, acc_val))"
      ]
    },
    {
      "cell_type": "markdown",
      "metadata": {
        "id": "fb8500QjZllr"
      },
      "source": [
        "We can now take a closer look at the results.\n",
        "\n",
        "Let's define a helper function to show the failure cases of our classifier."
      ]
    },
    {
      "cell_type": "code",
      "execution_count": 31,
      "metadata": {
        "id": "e3y4JVWKZllr"
      },
      "outputs": [],
      "source": [
        "def show_failures(model, dataloader, maxtoshow=10):\n",
        "    model.eval()\n",
        "    batch = next(iter(dataloader))\n",
        "    predictions = model(batch[0])\n",
        "\n",
        "    rounded = predictions.argmax(1)\n",
        "    errors = rounded!=batch[1]\n",
        "    print('Showing max', maxtoshow, 'first failures. '\n",
        "          'The predicted class is shown first and the correct class in parentheses.')\n",
        "    ii = 0\n",
        "    plt.figure(figsize=(maxtoshow, 1))\n",
        "    for i in range(batch[0].shape[0]):\n",
        "        if ii>=maxtoshow:\n",
        "            break\n",
        "        if errors[i]:\n",
        "            plt.subplot(1, maxtoshow, ii+1)\n",
        "            plt.axis('off')\n",
        "            plt.imshow(batch[0][i,0,:,:], cmap=\"gray\")\n",
        "            plt.title(\"%d (%d)\" % (rounded[i], batch[1][i]))\n",
        "            ii = ii + 1"
      ]
    },
    {
      "cell_type": "markdown",
      "metadata": {
        "id": "rmNIy_RLZllr"
      },
      "source": [
        "Here are the first 10 images from the validation data that this small model classified to a wrong class:\n",
        "\n"
      ]
    },
    {
      "cell_type": "code",
      "execution_count": 32,
      "metadata": {
        "colab": {
          "base_uri": "https://localhost:8080/",
          "height": 152
        },
        "id": "KxtcQuA0Zllr",
        "outputId": "9d014dec-6fd9-448a-915c-4f8e00afe908"
      },
      "outputs": [
        {
          "output_type": "stream",
          "name": "stdout",
          "text": [
            "Showing max 10 first failures. The predicted class is shown first and the correct class in parentheses.\n"
          ]
        },
        {
          "output_type": "display_data",
          "data": {
            "text/plain": [
              "<Figure size 1000x100 with 10 Axes>"
            ],
            "image/png": "[encoded data removed]"
          },
          "metadata": {}
        }
      ],
      "source": [
        "show_failures(nonlinear_model, val_dataloader)"
      ]
    },
    {
      "cell_type": "markdown",
      "metadata": {
        "id": "KYLAFwvHZlls"
      },
      "source": [
        "<!-- # Exercise:\n",
        "- Try changing the loss function,\n",
        "- Try changing the optimizer -->"
      ]
    },
    {
      "cell_type": "markdown",
      "metadata": {
        "id": "HYbAaTnkZlls"
      },
      "source": [
        "# Multilayer Model\n",
        "Our linear model isn't enough for high accuracy on this dataset. To improve the model, we often need to add more layers and nonlinearities.\n",
        "<img src=\"https://github.com/ellenketter/ai-science-training-series-ek/blob/main/02_intro_neural_networks/images/shallow_nn.png?raw=1\"  align=\"left\"/>\n",
        "\n",
        "The output of this NN can be written as\n",
        "\\begin{equation}\\label{eq: NN1d}\n",
        "  \\hat{u}(x) = \\sigma_2(\\sigma_1(\\mathbf{x}\\mathbf{W}_1 + \\mathbf{b}_1)\\mathbf{W}_2 + \\mathbf{b}_2),\n",
        "\\end{equation}\n",
        "where $\\mathbf{x}$ is the input, $\\mathbf{W}_j$ are the weights of the neural network, $\\sigma_j$ the (nonlinear) activation functions, and $\\mathbf{b}_j$ its biases. The activation function introduces the nonlinearity and makes it possible to learn more complex tasks. Desirable properties in an activation function include being differentiable, bounded, and monotonic.\n",
        "\n",
        "\n",
        "Image source: [PragatiBaheti](https://www.v7labs.com/blog/neural-networks-activation-functions)\n",
        "<img src=\"https://github.com/ellenketter/ai-science-training-series-ek/blob/main/02_intro_neural_networks/images/activation.jpeg?raw=1\"  align=\"center\"/>\n",
        "\n",
        "Adding more layers to obtain a deep neural network:\n",
        "<img src=\"https://github.com/ellenketter/ai-science-training-series-ek/blob/main/02_intro_neural_networks/images/deep_nn.png?raw=1\"  align=\"left\"/>\n",
        "\n",
        "\n",
        "\n",
        "# Important things to know\n",
        "Deep Neural networks can be overly flexible/complicated and \"overfit\" your data, just like fitting overly complicated polynomials:\n",
        "<img src=\"https://github.com/ellenketter/ai-science-training-series-ek/blob/main/02_intro_neural_networks/images/bias_vs_variance.png?raw=1\"  align=\"left\"/>\n",
        "\n",
        "To improve the generalization of our model on previously unseen data, we employ a technique known as regularization, which constrains our optimization problem in order to discourage complex models.\n",
        "\n",
        "  - Dropout is the commonly used regularization technique. The Dropout layer randomly sets input units to 0 with a frequency of rate at each step during training time, which helps prevent overfitting.\n",
        "  - Penalizing the loss function by adding a term such as $\\lambda ||\\mathbf{W}||^2$ is alsp a commonly used regularization technique. This helps \"control\" the magnitude of the weights of the network.\n",
        "    \n",
        "<!--  <img src=\"images/test_data_rule.png\" width=\"800\" hight=\"500\" align=\"center\"/>\n",
        "  -->"
      ]
    },
    {
      "cell_type": "markdown",
      "metadata": {
        "id": "TReHW1ZnZlls"
      },
      "source": [
        "We can now implement a deep network in PyTorch. nn.Dropout() performs the Dropout operation mentioned earlier"
      ]
    },
    {
      "cell_type": "code",
      "execution_count": 16,
      "metadata": {
        "id": "-SE0okjzZlls"
      },
      "outputs": [],
      "source": [
        "class NonlinearClassifier(nn.Module):\n",
        "\n",
        "    def __init__(self):\n",
        "        super().__init__()\n",
        "        self.flatten = nn.Flatten()\n",
        "        self.layers_stack = nn.Sequential(\n",
        "            nn.Linear(28*28, 50),\n",
        "            nn.ReLU(),\n",
        "            #nn.Dropout(0.2),\n",
        "            nn.Linear(50, 50),\n",
        "            nn.ReLU(),\n",
        "            #nn.Dropout(0.2),\n",
        "            nn.Linear(50, 10)\n",
        "        )\n",
        "\n",
        "    def forward(self, x):\n",
        "        x = self.flatten(x)\n",
        "        x = self.layers_stack(x)\n",
        "\n",
        "        return x"
      ]
    },
    {
      "cell_type": "markdown",
      "metadata": {
        "id": "45oEim5uZlls"
      },
      "source": [
        "# Homework: train a Nonlinear Classifier"
      ]
    },
    {
      "cell_type": "markdown",
      "metadata": {
        "id": "qSWIQ0rnZlls"
      },
      "source": [
        "1. Write some code to train the NonlinearClassifier.\n",
        "2. Create a data loader for the test data and check your model's accuracy on the test data.\n",
        "\n",
        "If you have time, experiment with how to improve the model. Note: training and validation data can be used to compare models, but test data should be saved until the end as a final check of generalization."
      ]
    },
    {
      "cell_type": "markdown",
      "metadata": {
        "id": "SZ5lZCsVZllt"
      },
      "source": [
        "# JupyterHub Reminder"
      ]
    },
    {
      "cell_type": "markdown",
      "source": [],
      "metadata": {
        "id": "nL_j3t7LcAks"
      }
    },
    {
      "cell_type": "markdown",
      "metadata": {
        "id": "m-Km-ShtZllt"
      },
      "source": [
        "From [Homework 0](https://github.com/argonne-lcf/ai-science-training-series/blob/main/00_introToAlcf/02_jupyterNotebooks.md): \"If you simply close your browser window, or logout without shutting down the jupyter server, your job will continue to occupy the worker node. Be considerate and shutdown your job when you finish.\"\n",
        "\n",
        "File --> Hub Control Panel --> Stop my server"
      ]
    }
  ],
  "metadata": {
    "kernelspec": {
      "display_name": "common_pkgs",
      "language": "python",
      "name": "common_pkgs"
    },
    "language_info": {
      "codemirror_mode": {
        "name": "ipython",
        "version": 3
      },
      "file_extension": ".py",
      "mimetype": "text/x-python",
      "name": "python",
      "nbconvert_exporter": "python",
      "pygments_lexer": "ipython3",
      "version": "3.11.4"
    },
    "colab": {
      "provenance": []
    }
  },
  "nbformat": 4,
  "nbformat_minor": 0
}